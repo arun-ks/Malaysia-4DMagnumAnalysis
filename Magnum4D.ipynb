{
 "cells": [
  {
   "cell_type": "code",
   "execution_count": null,
   "id": "8110a7c7-179f-4c26-b3e8-bc934e3473dd",
   "metadata": {
    "tags": []
   },
   "outputs": [],
   "source": [
    "import pandas as pd\n",
    "import matplotlib.pyplot as plt\n",
    "import plotly.express as px\n",
    "from datetime import datetime, timedelta\n",
    "import warnings\n",
    "warnings.simplefilter(\"ignore\", category=FutureWarning)\n",
    "\n",
    "dfBase = pd.read_csv('winning_history_4D_Magnum.csv')\n",
    "dfBase['DrawDate'] = pd.to_datetime(dfBase['DrawDate'], format='%d/%m/%Y')"
   ]
  },
  {
   "cell_type": "markdown",
   "id": "bff3e9b9-18f3-4b79-b44c-9346dc26c0ab",
   "metadata": {},
   "source": [
    "# Plotting graph all winning numbers, split by Prize Type"
   ]
  },
  {
   "cell_type": "code",
   "execution_count": null,
   "id": "10e0654a",
   "metadata": {},
   "outputs": [],
   "source": [
    "df=dfBase\n",
    "\n",
    "fig = px.scatter(df, x='DrawDate', y='Number', color='PrizeDesc',\n",
    "                 title='Winning Numbers Distribution Over the Years',\n",
    "                 labels={'DrawDate': 'Date', 'Number': 'Number'},\n",
    "                 hover_data={'DrawDate': '|%B %d, %Y', 'Number': True, 'PrizeDesc': True})\n",
    "fig.update_traces(marker=dict(size=1))\n",
    "fig.show()"
   ]
  },
  {
   "cell_type": "markdown",
   "id": "fb320e14-ef3b-4fea-91d9-068b99ca2813",
   "metadata": {},
   "source": [
    "# Plotting graph all winning numbers, when they got  1st, 2nd or 3rd Prize"
   ]
  },
  {
   "cell_type": "code",
   "execution_count": null,
   "id": "3da56632",
   "metadata": {},
   "outputs": [],
   "source": [
    "df=dfBase\n",
    "\n",
    "df_filtered = df[df['PrizeDesc'].isin(['1ST PRIZE', '2ND PRIZE', '3RD PRIZE'])]\n",
    "\n",
    "fig = px.scatter(df_filtered, x='DrawDate', y='Number', color='PrizeDesc',\n",
    "                 title='Winning Numbers Distribution Over the Years (1st, 2nd, 3rd Prize)',\n",
    "                 labels={'DrawDate': 'Date', 'Number': 'Number'},\n",
    "                 hover_data={'DrawDate': '|%B %d, %Y', 'Number': True, 'PrizeDesc': True})\n",
    "fig.update_traces(marker=dict(size=1))\n",
    "fig.show()"
   ]
  },
  {
   "cell_type": "markdown",
   "id": "2e98d95a-ceb3-46f5-99da-825453a4cbdf",
   "metadata": {},
   "source": [
    "# Plot Frequency of winnings for each number, split by type of prize"
   ]
  },
  {
   "cell_type": "code",
   "execution_count": null,
   "id": "794713f3",
   "metadata": {},
   "outputs": [],
   "source": [
    "df=dfBase\n",
    "\n",
    "# Group the data by 'Number' and 'PrizeDesc' and count the frequency of winnings\n",
    "winning_frequency = df.groupby(['Number', 'PrizeDesc']).size().reset_index(name='Frequency')\n",
    "\n",
    "fig = px.scatter(winning_frequency, x='Number', y='Frequency', color='PrizeDesc',\n",
    "             title='Frequency of Winnings for Each Numberm by Prize Desc',\n",
    "             labels={'Number': 'Number', 'Frequency': 'Frequency', 'PrizeDesc': 'Prize Description'},\n",
    "             hover_data={'Number': True, 'Frequency': True, 'PrizeDesc': True})\n",
    "fig.update_traces(marker=dict(size=2))\n",
    "fig.show()\n"
   ]
  },
  {
   "cell_type": "markdown",
   "id": "2a1f4cfd-94ee-4c64-a913-dfb1f013fcad",
   "metadata": {},
   "source": [
    "# Plot Frequency of winnings for each number, split by type of prize - for last 2 years"
   ]
  },
  {
   "cell_type": "code",
   "execution_count": null,
   "id": "2a1703c4",
   "metadata": {},
   "outputs": [],
   "source": [
    "df=dfBase\n",
    "\n",
    "df_last_2_years = df[df['DrawDate'] >= datetime.now() - timedelta(days=2*365)]\n",
    "winning_frequency = df_last_2_years.groupby(['Number', 'PrizeDesc']).size().reset_index(name='Frequency')\n",
    "\n",
    "fig = px.scatter(winning_frequency, x='Number', y='Frequency', color='PrizeDesc',\n",
    "             title='Frequency of Winnings for Each Number (Last 2 Years)',\n",
    "             labels={'Number': 'Number', 'Frequency': 'Frequency', 'PrizeDesc': 'Prize Description'},\n",
    "             hover_data={'Number': True, 'Frequency': True, 'PrizeDesc': True})\n",
    "fig.update_traces(marker=dict(size=2))\n",
    "fig.show()"
   ]
  },
  {
   "cell_type": "code",
   "execution_count": null,
   "id": "069578d3",
   "metadata": {},
   "outputs": [],
   "source": [
    "winning_frequency[winning_frequency['Number']==2114]"
   ]
  },
  {
   "cell_type": "markdown",
   "id": "ee8b3aeb-f0c0-44a7-b4d4-fe2953d2733a",
   "metadata": {},
   "source": [
    "# Find winnings for specific numbers"
   ]
  },
  {
   "cell_type": "code",
   "execution_count": null,
   "id": "e0097cfd-19aa-4234-a125-98a197a14fcf",
   "metadata": {},
   "outputs": [],
   "source": [
    "df=dfBase\n",
    "\n",
    "df['DaysTillNow'] = (datetime.now() - df['DrawDate']).dt.days\n",
    "\n",
    "def NumberWinHistory(numb):\n",
    "    # Filter the DataFrame to select rows where the 'Number' column equals 1234\n",
    "    result = df[df['Number'] == numb]\n",
    "    # Sort the result based on 'DrawDate'\n",
    "    result_sorted = result.sort_values(by='DrawDate')\n",
    "    result_subset = result_sorted[['Number', 'DrawDate', 'PrizeDesc','DaysTillNow']]\n",
    "    print(result_subset.to_string(index=False))"
   ]
  },
  {
   "cell_type": "code",
   "execution_count": null,
   "id": "7e3bc43e-6f42-4050-8285-71b3ba1fce74",
   "metadata": {},
   "outputs": [],
   "source": [
    "NumberWinHistory(5515)"
   ]
  },
  {
   "cell_type": "markdown",
   "id": "3e05ec3d",
   "metadata": {},
   "source": [
    "## Days since a number won a specific Prize Type"
   ]
  },
  {
   "cell_type": "code",
   "execution_count": null,
   "id": "09e52a8a",
   "metadata": {},
   "outputs": [],
   "source": [
    "df=dfBase\n",
    "\n",
    "last_draw_date = df.groupby(['Number', 'PrizeDesc'])['DrawDate'].max().reset_index()\n",
    "\n",
    "specific_prize_types = ['1ST PRIZE', '2ND PRIZE', '3RD PRIZE', 'CONSOLATION PRIZE', 'SPECIAL PRIZE']\n",
    "df_filtered = last_draw_date[last_draw_date['PrizeDesc'].isin(specific_prize_types)]\n",
    "\n",
    "df_filtered['DaysSinceLastWin'] = (datetime.now() - df_filtered['DrawDate']).dt.days\n",
    "\n",
    "fig = px.scatter(df_filtered, x='Number', y='DaysSinceLastWin', color='PrizeDesc',\n",
    "                 title='Days Since Last Win for Each Number',\n",
    "                 labels={'Number': 'Number', 'DaysSinceLastWin': 'Days Since Last Win', 'PrizeDesc': 'Prize Description'},\n",
    "                 hover_data={'Number': True, 'DaysSinceLastWin': True, 'PrizeDesc': True})\n",
    "fig.update_traces(marker=dict(size=2))\n",
    "fig.show()\n"
   ]
  },
  {
   "cell_type": "markdown",
   "id": "c19bfa85",
   "metadata": {},
   "source": [
    "# Days since number won any prize"
   ]
  },
  {
   "cell_type": "code",
   "execution_count": null,
   "id": "5f8eedcb",
   "metadata": {},
   "outputs": [],
   "source": [
    "df=dfBase\n",
    "\n",
    "last_draw_date = df.groupby('Number')['DrawDate'].max().reset_index()\n",
    "last_draw_date['DaysSinceLastWin'] = (datetime.now() - last_draw_date['DrawDate']).dt.days\n",
    "\n",
    "# Create an interactive scatter plot with tooltips using Plotly\n",
    "fig = px.scatter(last_draw_date, x='Number', y='DaysSinceLastWin', title='Days Since Last Win for Each Number',\n",
    "                 labels={'Number': 'Number', 'DaysSinceLastWin': 'Days Since Last Win'})\n",
    "fig.update_traces(marker=dict(size=2), mode='markers+text', text=last_draw_date['Number'], textposition='top center')\n",
    "fig.update_layout(hovermode='closest')\n",
    "fig.show()"
   ]
  },
  {
   "cell_type": "code",
   "execution_count": null,
   "id": "0dcfeb7c",
   "metadata": {},
   "outputs": [],
   "source": [
    "last_draw_date.sort_values(by='DaysSinceLastWin', ascending=False)"
   ]
  }
 ],
 "metadata": {
  "kernelspec": {
   "display_name": "Python 3 (ipykernel)",
   "language": "python",
   "name": "python3"
  },
  "language_info": {
   "codemirror_mode": {
    "name": "ipython",
    "version": 3
   },
   "file_extension": ".py",
   "mimetype": "text/x-python",
   "name": "python",
   "nbconvert_exporter": "python",
   "pygments_lexer": "ipython3",
   "version": "3.11.5"
  }
 },
 "nbformat": 4,
 "nbformat_minor": 5
}
